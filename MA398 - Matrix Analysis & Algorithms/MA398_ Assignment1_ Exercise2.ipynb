{
 "cells": [
  {
   "cell_type": "markdown",
   "id": "c5f1f2b7-b7ad-4ead-8380-d7021deaf849",
   "metadata": {},
   "source": [
    "Name - Timothy Yap\n",
    "\n",
    "Student ID - 21611367\n",
    "\n",
    "Code below is for 2)d)"
   ]
  },
  {
   "cell_type": "code",
   "execution_count": 32,
   "id": "5afb0ef5-d690-4d48-a4c2-28a3d8d7df1c",
   "metadata": {
    "tags": []
   },
   "outputs": [
    {
     "name": "stdout",
     "output_type": "stream",
     "text": [
      "L:\n",
      " [[ 1.          0.          0.          0.        ]\n",
      " [-0.1875      1.          0.          0.        ]\n",
      " [-0.375      -0.81318681  1.          0.        ]\n",
      " [-0.75       -0.80586081 -0.23024458  1.        ]]\n",
      "\n",
      "\n",
      "U:\n",
      " [[ 0.8        -0.25       -0.1        -0.1       ]\n",
      " [ 0.          0.853125   -0.02375    -0.02375   ]\n",
      " [ 0.          0.          0.84318681 -0.35681319]\n",
      " [ 0.          0.          0.          0.7237065 ]]\n"
     ]
    }
   ],
   "source": [
    "# Required libraries\n",
    "import numpy as np\n",
    "import scipy\n",
    "import matplotlib.pyplot as plt\n",
    "import time\n",
    "\n",
    "# 2)d) Recursive function\n",
    "def recursive_lu(M):\n",
    "    n = M.shape[0]\n",
    "    # Base case 2x2 matrix\n",
    "    if n == 2:  \n",
    "        # Setting base case for M matrix\n",
    "        M_11 = M[0, 0]\n",
    "        M_12 = M[0, 1]\n",
    "        M_21 = M[1, 0]\n",
    "        M_22 = M[1, 1]\n",
    "        \n",
    "        # Calculating L matrix\n",
    "        L_11 = np.array([1])\n",
    "        L_21 = M_21 / M_11\n",
    "        L_22 = np.array([1])\n",
    "        \n",
    "        # Calculating U matrix\n",
    "        U_11 = M_11\n",
    "        U_12 = M_12\n",
    "        U_22 = M_22 - L_21 * U_12\n",
    "        \n",
    "        # Returning combined L_ij and U_ij matrices\n",
    "        L_main = np.block([[L_11, np.array([0])],[L_21, L_22]])\n",
    "        U_main = np.block([[U_11, U_12],[np.array([0]), U_22]])\n",
    "        return L_main, U_main\n",
    "    else:\n",
    "        # Splitting into blocks\n",
    "        m = int(n/2)\n",
    "        M_11 = M[:m , :m]\n",
    "        M_12 = M[:m , m:]\n",
    "        M_21 = M[m: , :m]\n",
    "        M_22 = M[m: , m:]\n",
    "        \n",
    "        # Calculating L and U matrix\n",
    "        L_11, U_11 = recursive_lu(M_11)\n",
    "        L_11_inv = np.linalg.inv(L_11)\n",
    "        U_12 = L_11_inv @ M_12\n",
    "        L_21 = np.dot(M_21, np.linalg.inv(U_11))\n",
    "        \n",
    "        # Using the recursive matrix to find LU decomp. (explained in part b))\n",
    "        L_22, U_22 = recursive_lu(M_22 - L_21 @ U_12)\n",
    "        \n",
    "        # Returning combined L_ij and U_ij matrices\n",
    "        L_main = np.block([[L_11, np.zeros((m,m))],[L_21, L_22]])\n",
    "        U_main = np.block([[U_11, U_12],[np.zeros((m,m)), U_22]])\n",
    "        return L_main, U_main\n",
    "\n",
    "# using the part 2) economic array as an example\n",
    "econ_array = np.array([[0.8,-0.25,-0.1,-0.1],\n",
    "              [-0.15,0.9,-0.005,-0.005],\n",
    "              [-0.3,-0.6,0.9,-0.3],\n",
    "              [-0.6,-0.5,-0.1,0.9]])\n",
    "\n",
    "L, U = recursive_lu(econ_array)\n",
    "print(\"L:\\n\", L)\n",
    "print(\"\\n\")\n",
    "print(\"U:\\n\", U)"
   ]
  },
  {
   "cell_type": "markdown",
   "id": "95d7de54-14d7-4ced-b863-6c422f2085c3",
   "metadata": {},
   "source": [
    "Code below is for 2)e)\n",
    "\n",
    "Plot highlights the exponential runtime as k increases. Would suggest the my code runs exponentially as inputs are exponential."
   ]
  },
  {
   "cell_type": "code",
   "execution_count": 28,
   "id": "9a747623-6c20-4cf2-a7e4-46de608833e8",
   "metadata": {
    "tags": []
   },
   "outputs": [
    {
     "name": "stdout",
     "output_type": "stream",
     "text": [
      "[6.98232651e-01 9.51385498e-01 2.16422081e+00 4.85105515e+00\n",
      " 9.96012688e+00 2.08866835e+01 6.21380806e+01 1.29368186e+02\n",
      " 3.30345201e+02 7.86258435e+02]\n"
     ]
    },
    {
     "data": {
      "image/png": "[encoded data removed]",
      "text/plain": [
       "<Figure size 700x500 with 1 Axes>"
      ]
     },
     "metadata": {},
     "output_type": "display_data"
    }
   ],
   "source": [
    "# Runtime code\n",
    "# x, y arrays\n",
    "time_array = np.zeros(10)\n",
    "n_power = np.arange(1,11)\n",
    "\n",
    "# Checking for powers 1 - 10\n",
    "for i in range(1, 11):\n",
    "    start = time.time()\n",
    "    # Averaging 30 runs\n",
    "    for j in range(1, 31):\n",
    "        A = np.random.rand(2**i, 2**i)\n",
    "        L, U = recursive_lu(A)\n",
    "    end = time.time()\n",
    "    time_array[i - 1] = (end-start) * 10**2\n",
    "print(time_array)\n",
    "\n",
    "# Plotting graph\n",
    "plt.figure(figsize=(7,5))\n",
    "plt.plot(n_power, time_array, \"b-\", lw = 2)\n",
    "\n",
    "# Graph settings\n",
    "plt.xlabel(\"Power k\", fontsize=14)\n",
    "plt.ylabel(\"Time\", fontsize=14)\n",
    "plt.title(\"Runtime vs Power\", fontsize=20)\n",
    "plt.show()   "
   ]
  }
 ],
 "metadata": {
  "kernelspec": {
   "display_name": "Python 3 (ipykernel)",
   "language": "python",
   "name": "python3"
  },
  "language_info": {
   "codemirror_mode": {
    "name": "ipython",
    "version": 3
   },
   "file_extension": ".py",
   "mimetype": "text/x-python",
   "name": "python",
   "nbconvert_exporter": "python",
   "pygments_lexer": "ipython3",
   "version": "3.11.4"
  }
 },
 "nbformat": 4,
 "nbformat_minor": 5
}
