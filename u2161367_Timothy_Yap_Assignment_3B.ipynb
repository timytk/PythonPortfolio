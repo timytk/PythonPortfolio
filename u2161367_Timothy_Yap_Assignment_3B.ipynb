{
 "cells": [
  {
   "cell_type": "markdown",
   "metadata": {},
   "source": [
    "# MA124 Maths by Computer: Assignment 3 \n",
    "## Part B: Geometric Brownian Motion\n",
    "\n",
    "Student number: 2161367\n",
    "\n",
    "Student Name: Timothy Yap"
   ]
  },
  {
   "cell_type": "code",
   "execution_count": null,
   "metadata": {
    "tags": []
   },
   "outputs": [],
   "source": [
    "# import libraries\n",
    "\n",
    "import numpy as np\n",
    "import matplotlib.pyplot as plt\n",
    "from scipy.stats import lognorm"
   ]
  },
  {
   "cell_type": "markdown",
   "metadata": {},
   "source": [
    "We consider numerical simulations of the stochastic differential equation for Geometric Brownian Motion given by \n",
    "\n",
    "$$\n",
    "\\dot S(t) = \\mu S(t) + \\sigma S(t) \\xi(t)\n",
    "$$\n",
    "\n",
    "plays a central role in mathematical finance. This equation describes what is known as [Geometric Brownian Motion](https://en.wikipedia.org/wiki/Geometric_Brownian_motion).  $S(t)$ is taken to be positive and represents the value of a stock at time $t$. The deterministic ODE $\\dot S(t) = \\mu S(t)$, describes exponential growth in the value of a stock. We consider $\\mu > 0$ and refer to $\\mu$ as the growth rate. The term $\\sigma S(t) \\xi(t)$ describes fluctuations in the value of a stock. $\\xi(t)$ is a Gaussian random variable. The parameter $\\sigma > 0$ is known as the volatility. Notice that the fluctuating term contains $S(t)$ itself. This models the fact that fluctuations in a stock price are proportional to the price.\n",
    "\n",
    "We consider the following parameter values:\n",
    "- Use a final time of $t_f = 5$, corresponding to 5 years. \n",
    "- Take $\\mu$ to be 0.05\n",
    "- Take $\\sigma$ to be 0.2\n",
    "- Take the initial stock price to be $S_0 = 100$. "
   ]
  },
  {
   "cell_type": "code",
   "execution_count": null,
   "metadata": {},
   "outputs": [],
   "source": [
    "# define our function that will that compute Npaths paths of the SDE\n",
    "def SDE_GBM(S0, tf, mu, sigma, Npaths):\n",
    "    Nsteps = 365 * tf\n",
    "    t, dt = np.linspace(0,tf,Nsteps+1,retstep=True)\n",
    "    S = np.zeros((Nsteps+1,Npaths))\n",
    "    root_dt = np.sqrt(dt)\n",
    "    S[0,:] = S0\n",
    "    \n",
    "    for n in range(Nsteps):\n",
    "        S_t = S[n,:]\n",
    "        S[n+1,:] =  S[n,:] + dt * mu * S_t + sigma * root_dt * np.random.randn(Npaths) * S_t\n",
    "\n",
    "    return t, S"
   ]
  },
  {
   "cell_type": "code",
   "execution_count": null,
   "metadata": {},
   "outputs": [],
   "source": [
    "# generate the plots for Npaths paths using my SDE fuction from above\n",
    "# parameters for the simulation\n",
    "S0 = 100\n",
    "tf = 5\n",
    "mu = 0.05\n",
    "sigma = 0.2\n",
    "Npaths = 100\n",
    "\n",
    "t, S = SDE_GBM(S0, tf, mu, sigma, Npaths)\n",
    "\n",
    "# Plot paths and graph settings\n",
    "plt.figure(figsize = (8,5))\n",
    "plt.plot(t,S)\n",
    "plt.xlabel(\"t\", fontsize=14)\n",
    "plt.ylabel(\"S\", fontsize=14)\n",
    "plt.title(\"Stock Value Over 5 Years\", fontsize=20)\n",
    "plt.show()"
   ]
  },
  {
   "cell_type": "code",
   "execution_count": null,
   "metadata": {},
   "outputs": [],
   "source": [
    "# generate a plot showing the mean +/- standard deviation for the 2000 paths as a function of time\n",
    "# parameters for the simulation (same as above except for Npaths)\n",
    "Npaths = 2000\n",
    "t, S = SDE_GBM(S0, tf, mu, sigma, Npaths)\n",
    "\n",
    "# Compute the mean and standard deviation as function of time\n",
    "S_mean = np.mean(S,1)\n",
    "S_std = np.std(S,1)\n",
    "\n",
    "# Plot shaded region between X_mean - X_std and X_mean + X_std\n",
    "plt.figure(figsize = (6,4))\n",
    "plt.fill_between(t, S_mean - S_std, S_mean + S_std, alpha=0.5, color=\"darkorange\")\n",
    "\n",
    "# Plot the mean itself \n",
    "plt.plot(t, S_mean, linewidth=3, color = (0.172, 0.48, 0.688))\n",
    "\n",
    "# graph settings\n",
    "plt.xlabel(\"t\", fontsize=14)\n",
    "plt.ylabel(\"S\", fontsize=14)\n",
    "plt.title(\"Mean +/- Std.\", fontsize=20)\n",
    "plt.xticks(fontsize=14)\n",
    "plt.yticks(fontsize=14)\n",
    "plt.show()"
   ]
  },
  {
   "cell_type": "code",
   "execution_count": null,
   "metadata": {},
   "outputs": [],
   "source": [
    "# generates the histograms for 3 different times\n",
    "# Plot histograms\n",
    "plt.figure(figsize = (8,5))\n",
    "y1 = S[365,:]\n",
    "y2 = S[730,:]\n",
    "yfinal = S[-1,:]\n",
    "plt.hist(y1, bins=31, density=True, alpha = 0.5, color = \"blue\", label = \"First Year\")\n",
    "plt.hist(y2, bins=31, density=True, alpha = 0.5, color = \"red\", label = \"Second Year\")\n",
    "plt.hist(yfinal, bins=31, density=True, alpha = 0.5, color = \"green\", label = \"Final Year\")\n",
    "\n",
    "# Plot the distribution of the histograms\n",
    "# finding means and std of different times\n",
    "y1_mean = np.mean(S[365,:])\n",
    "y1_std = np.std(S[365,:])\n",
    "y2_mean = np.mean(S[730,:])\n",
    "y2_std = np.std(S[730,:])\n",
    "yfinal_mean = np.mean(S[-1,:])\n",
    "yfinal_std = np.std(S[-1,:])\n",
    "\n",
    "# plotting the log norm graphs for the distribution\n",
    "t = np.linspace(0,1000,1001)\n",
    "s, loc, scale = lognorm.fit(S[365,:], floc = 0)\n",
    "plt.plot(lognorm.pdf(t,s,loc,scale), color = \"blue\", label = \"lognorm of 1 year\")\n",
    "s, loc, scale = lognorm.fit(y2, floc = 0)\n",
    "plt.plot(lognorm.pdf(t,s,loc,scale), color = \"red\", label = \"lognorm of 2 years\")\n",
    "s, loc, scale = lognorm.fit(yfinal, floc = 0)\n",
    "plt.plot(lognorm.pdf(t,s,loc,scale), color = \"green\", label = \"lognorm of all years\")\n",
    "\n",
    "\n",
    "# graph settings\n",
    "plt.xlabel(\"S\", fontsize=14)\n",
    "plt.ylabel(\"Density\", fontsize=14)\n",
    "plt.title(\"Histogram at 3 different times\", fontsize=20)\n",
    "plt.xlim(0,500)\n",
    "plt.ylim(0,0.0225)\n",
    "plt.legend()\n",
    "plt.show()\n",
    "\n",
    "# printing out means and standard deviations\n",
    "print(\"The mean for the first year was\",y1_mean,\" and the standard deviaiton for that year was\",y1_std)\n",
    "print(\"The mean for the second year was\",y2_mean,\" and the standard deviaiton for that year was\",y2_std)\n",
    "print(\"The mean for the final year was\",yfinal_mean,\" and the standard deviaiton for that year was\",yfinal_std)"
   ]
  },
  {
   "cell_type": "markdown",
   "metadata": {},
   "source": [
    "The first figure shows us the numerical simulations for over 100 paths of the stochastic differential equation for Geometric Brownian Motion given above. With the set parameters, our graphs do seem to follow an upward trend which is expected as our $\\mu$ is stated to be 0.05; which is equivalent to a 5% annual growth. We can also observe the noise of the many different walks, this is due to the 0.2 set for our $\\sigma$.\n",
    "\n",
    "The second figure shows us the mean +/- standard deviation taken for Npaths = 2000. As more time passes, the standard deviation increases which is also expected as the longer out into the future we are simulating, the harder it becomes to predict the prices, hence the standard deviation becomes larger. The blue graph is the mean of all 2000 walks and this is also expected to have a slight upward gradient as before, the $\\mu$ is stated to be 0.05; which is equivalent to a 5% annual growth.\n",
    "\n",
    "The last figure plots histograms of 3 different times; first year, second year, and final year repectively. We can see in the printed statements that the mean is going up which was discussed previous, as well as the standard deviation which was also discussed previously. The distribution of these histograms follow the logarithmic normal which has been plotted on the figure."
   ]
  },
  {
   "cell_type": "code",
   "execution_count": null,
   "metadata": {},
   "outputs": [],
   "source": []
  }
 ],
 "metadata": {
  "kernelspec": {
   "display_name": "Python 3 (ipykernel)",
   "language": "python",
   "name": "python3"
  },
  "language_info": {
   "codemirror_mode": {
    "name": "ipython",
    "version": 3
   },
   "file_extension": ".py",
   "mimetype": "text/x-python",
   "name": "python",
   "nbconvert_exporter": "python",
   "pygments_lexer": "ipython3",
   "version": "3.9.7"
  }
 },
 "nbformat": 4,
 "nbformat_minor": 4
}
