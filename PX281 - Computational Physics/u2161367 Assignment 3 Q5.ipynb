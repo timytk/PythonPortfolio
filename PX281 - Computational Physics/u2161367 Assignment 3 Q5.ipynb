{
 "cells": [
  {
   "cell_type": "markdown",
   "metadata": {},
   "source": [
    "Before you turn this problem in, make sure everything runs as expected. First, **restart the kernel** (in the menubar, select Kernel$\\rightarrow$Restart) and then **run all cells** (in the menubar, select Cell$\\rightarrow$Run All).\n",
    "\n",
    "Make sure you fill in any place that says `YOUR CODE HERE` or \"YOUR ANSWER HERE\"\n",
    "\n",
    "Do not edit or insert code into the test cells as all you insert will be overwritten by the automated testing code."
   ]
  },
  {
   "cell_type": "markdown",
   "metadata": {},
   "source": [
    "---"
   ]
  },
  {
   "cell_type": "markdown",
   "metadata": {
    "deletable": false,
    "editable": false,
    "nbgrader": {
     "cell_type": "markdown",
     "checksum": "14bc93655757738ec43ceffd4f88b1d5",
     "grade": false,
     "grade_id": "cell-0a1d6cc6c5df1815",
     "locked": true,
     "schema_version": 3,
     "solution": false
    }
   },
   "source": [
    "**Question 5**: The Maxwell (or Maxwell-Boltzmann) distribution gives the distribution of speeds of molecules in thermal equilibrium as given by statistical mechanics. The distribution function is given as $$p(v)=\\sqrt{\\frac{2}{\\pi}}\\,\\frac{v^{2}\\,\\exp\\left(-\\frac{v^{2}}{2\\,a^{2}}\\right)}{a^{3}}$$ with speed $v$ and $$a=\\sqrt{\\frac{k\\,T}{m}}$$ and $k$ the Boltzmann constant, $T$ the temperature and $m$ the atomic mass of the molecules. \n",
    "\n",
    "Consider the SciPy function `scipy.stats.maxwell` which permits to draw random speed values from a Maxwell distribution. Given a value for the parameter $a$, the speed distribution can be used as `sample = maxwell.rvs(scale=a, size=1000)` to obtain a thousand random speeds from the Maxwell distribution with the correct temperature and molecule mass. Use the `scipy.constants` library to define the molecule mass in atomic mass units in kg and obtain the correct Boltzmann constant. Use SI units throughout.\n",
    "\n",
    "**Task**: **(a)** Write a function `samples(T1, T2, mass)` which draws two samples of 1000 random speed values each from the Maxwell distribution with temperatures $T_{1}$ and $T_{2}$ and atomic mass in units of kg as input. \n",
    "\n",
    "The first sample should represent Helium gas atom speeds at room temperature ($T_{1}=290\\,$K), the second cold Helium at $T_{2}=4.2\\,$K. Use the `scipy.constants` library to define the Helium atom mass at 4 atomic mass units in kg.\n",
    "\n",
    "**(b)** Write a function `doCollision(ncoll, sample1, sample2)` which takes the number of simulated collisions as input as well as the two prepared samples. For each collision simulation create a random pair from members of both samples and determine the absolute **energy** difference. Add half the energy difference to the slower molecule and subtract half the energy difference from the faster molecule so that in the end both have the same energy. Then obtain the speed of the individual molecules from their energy and change it in the speed sample array accordingly for both and collide the next pair. Merge the distributions into one and return the combined distribution.\n",
    "\n",
    "Simulate $10^{4}$ collisions between the hot and cold Helium and print the final temperature value, calculated from the final mean value. The mean value of the Maxwell distribution in the notation from above is given as $$\\mu=2\\,a\\,\\sqrt{\\frac{2}{\\pi}}.$$ Plot the merged (concatenated) speed distribution histogram (20 bins are recommended) with appropriate axes labels and title.\n",
    "\n",
    "Note that the energy redistribution mechanism as described in (b) is unrealistic but simple to code hence this is not a good physics model. Take it as an educational exercise rather than a serious model. The collision dynamics could easily be changed and made much more realistic."
   ]
  },
  {
   "cell_type": "code",
   "execution_count": 1,
   "metadata": {
    "deletable": false,
    "nbgrader": {
     "cell_type": "code",
     "checksum": "5f3c4a9816b46c380050ad6eb3a774fd",
     "grade": false,
     "grade_id": "Q5Code",
     "locked": false,
     "schema_version": 3,
     "solution": true
    },
    "tags": []
   },
   "outputs": [
    {
     "name": "stdout",
     "output_type": "stream",
     "text": [
      "Final temperature value: 176.35111907359996\n"
     ]
    },
    {
     "data": {
      "image/png": "[encoded data removed]",
      "text/plain": [
       "<Figure size 800x500 with 1 Axes>"
      ]
     },
     "metadata": {},
     "output_type": "display_data"
    }
   ],
   "source": [
    "# YOUR CODE HERE\n",
    "# YOUR CODE HERE\n",
    "import numpy as np\n",
    "import matplotlib.pyplot as plt\n",
    "import scipy.constants as pc\n",
    "from scipy.stats import maxwell\n",
    "\n",
    "# Task (a) sample function\n",
    "def samples(T1, T2, mass):\n",
    "    '''\n",
    "    Parameters\n",
    "    ----------\n",
    "    T1 : First temperature\n",
    "    T2 : Second temperature\n",
    "    mass : Mass of the particle\n",
    "\n",
    "    Returns\n",
    "    -------\n",
    "    samp1 : 1000 element array based on T1\n",
    "    samp2 : 1000 element array based on T2\n",
    "    '''\n",
    "    # creating two samples with the given parameters\n",
    "    a1 = np.sqrt((pc.k * T1) / mass)\n",
    "    a2 = np.sqrt((pc.k * T2) / mass)\n",
    "    samp1 = maxwell.rvs(scale = a1, size = 1000)\n",
    "    samp2 = maxwell.rvs(scale = a2, size = 1000)\n",
    "    return samp1, samp2\n",
    "\n",
    "# Task (b) doCollision\n",
    "def doCollision(ncol, sample1, sample2):\n",
    "    '''\n",
    "    Parameters\n",
    "    ----------\n",
    "    ncol : Number of collisions\n",
    "    sample1 : Array of speed for first sample\n",
    "    sample2 : Array of speed for second sample\n",
    "\n",
    "    Returns\n",
    "    -------\n",
    "    A concatenated array after simulation of collisions    \n",
    "    '''\n",
    "    # simulating the collisions ncol times and returning the finalised speed\n",
    "    for _ in range(ncol):\n",
    "        rand1 = np.random.randint(0,1000)\n",
    "        rand2 = np.random.randint(0,1000)\n",
    "        # calculate kinetic energy and simulating the changes\n",
    "        ke1 = 0.5 * sample1[rand1] ** 2\n",
    "        ke2 = 0.5 * sample2[rand2] ** 2\n",
    "        diff = ke1 - ke2\n",
    "        ke1 -= diff / 2\n",
    "        ke2 += diff / 2\n",
    "        sample1[rand1] = np.sqrt(2 * ke1)\n",
    "        sample2[rand2] = np.sqrt(2 * ke2)\n",
    "    return np.hstack((sample1, sample2))\n",
    "\n",
    "# Generating plot values\n",
    "m = 4.0*pc.u\n",
    "wh, ch = samples(290, 4.2, m)\n",
    "final = doCollision(10000, wh, ch)\n",
    "T = (np.mean(final)/2.0*np.sqrt(np.pi/2))**2 * m / pc.k\n",
    "print(\"Final temperature value:\", T)\n",
    "\n",
    "# Graph settings\n",
    "plt.figure(figsize = (8, 5))\n",
    "plt.title(\"Collision Simulation Histogram\")\n",
    "plt.hist(final, bins = 20)\n",
    "plt.xlabel(\"Speed [m/s]\")\n",
    "plt.ylabel(\"Counts\")\n",
    "plt.show()\n"
   ]
  },
  {
   "cell_type": "code",
   "execution_count": 2,
   "metadata": {
    "deletable": false,
    "editable": false,
    "nbgrader": {
     "cell_type": "code",
     "checksum": "d560c0015f982d44154ef1765547048f",
     "grade": true,
     "grade_id": "Q5TestA",
     "locked": true,
     "points": 1,
     "schema_version": 3,
     "solution": false
    }
   },
   "outputs": [],
   "source": [
    "# Test cell\n",
    "import scipy.constants as pc\n",
    "m = 4.0*pc.u\n",
    "wh, ch = samples(290, 4.2, m)\n",
    "assert (len(wh)==1000), 'wrong sample size'"
   ]
  },
  {
   "cell_type": "code",
   "execution_count": 3,
   "metadata": {
    "deletable": false,
    "editable": false,
    "nbgrader": {
     "cell_type": "code",
     "checksum": "f03b591386df4cdbbbdbc90e10ee062a",
     "grade": true,
     "grade_id": "Q5TestB",
     "locked": true,
     "points": 1,
     "schema_version": 3,
     "solution": false
    }
   },
   "outputs": [],
   "source": [
    "# Test cell\n",
    "import numpy as np\n",
    "assert (np.mean(wh)>1200.0 and np.mean(wh)<1300.0), 'wrong room temperature helium distribution'\n",
    "assert (np.mean(ch)>130.0 and np.mean(ch)<155.0), 'wrong cold temperature helium distribution'"
   ]
  },
  {
   "cell_type": "code",
   "execution_count": 4,
   "metadata": {
    "deletable": false,
    "editable": false,
    "nbgrader": {
     "cell_type": "code",
     "checksum": "14904135b8ac95207fd56360cf45061b",
     "grade": true,
     "grade_id": "Q5TestC",
     "locked": true,
     "points": 1,
     "schema_version": 3,
     "solution": false
    }
   },
   "outputs": [],
   "source": [
    "# Test cell\n",
    "from math import sqrt, pi\n",
    "final = doCollision(10000, wh, ch)\n",
    "T = (np.mean(final)/2.0*sqrt(pi/2))**2 * m / pc.k\n",
    "assert (T>165.0 and T<190.0), 'wrong final temperature'"
   ]
  },
  {
   "cell_type": "markdown",
   "metadata": {
    "deletable": false,
    "editable": false,
    "nbgrader": {
     "cell_type": "markdown",
     "checksum": "5e532da1bea1ae6ef3d4b1582e54d3d9",
     "grade": false,
     "grade_id": "cell-a1d21a0b40415b41",
     "locked": true,
     "schema_version": 3,
     "solution": false
    }
   },
   "source": [
    "### Tests 3 marks; Style 1 mark; Plot - 2 marks"
   ]
  }
 ],
 "metadata": {
  "kernelspec": {
   "display_name": "Python 3 (ipykernel)",
   "language": "python",
   "name": "python3"
  },
  "language_info": {
   "codemirror_mode": {
    "name": "ipython",
    "version": 3
   },
   "file_extension": ".py",
   "mimetype": "text/x-python",
   "name": "python",
   "nbconvert_exporter": "python",
   "pygments_lexer": "ipython3",
   "version": "3.11.4"
  }
 },
 "nbformat": 4,
 "nbformat_minor": 4
}
