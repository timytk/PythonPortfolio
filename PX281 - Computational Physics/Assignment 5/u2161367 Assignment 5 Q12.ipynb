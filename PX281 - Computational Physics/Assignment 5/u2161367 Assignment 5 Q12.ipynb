{
 "cells": [
  {
   "cell_type": "markdown",
   "metadata": {},
   "source": [
    "Before you turn this problem in, make sure everything runs as expected. First, **restart the kernel** (in the menubar, select Kernel$\\rightarrow$Restart) and then **run all cells** (in the menubar, select Cell$\\rightarrow$Run All).\n",
    "\n",
    "Make sure you fill in any place that says `YOUR CODE HERE` or \"YOUR ANSWER HERE\"\n",
    "\n",
    "Do not edit or insert code into the test cells as all you insert will be overwritten by the automated testing code."
   ]
  },
  {
   "cell_type": "markdown",
   "metadata": {},
   "source": [
    "---"
   ]
  },
  {
   "cell_type": "markdown",
   "metadata": {
    "deletable": false,
    "editable": false,
    "nbgrader": {
     "cell_type": "markdown",
     "checksum": "a5ec0c21c081611a395cbade876fd738",
     "grade": false,
     "grade_id": "cell-14f6c436f3904ca5",
     "locked": true,
     "schema_version": 3,
     "solution": false
    }
   },
   "source": [
    "**Question 12**: Consider the one-dimensional, time-independent Schroedinger equation describing a particle with wave function $\\psi(x)$ and energy $E$: $$-\\frac{\\hbar^{2}}{2\\,m}\\,\\frac{d^{2}\\psi(x)}{dx^{2}} + V(x)\\,\\psi(x) = E\\,\\psi(x).$$ Values for the constants $m$, $\\hbar$ and others required for the calculation in SI units are given in the code cell below. (Note: the energy unit eV is taken as elementary charge $e$ times Volts with $e$ given as a constant.]\n",
    "\n",
    "**Tasks**: \n",
    "\n",
    "**(a)** Consider a square potential well with $V(x)=0$ in between two infinitely high walls separated by a distance $L$ equal to the Bohr radius, i.e. for all x in the interval $[0,L]$. Write a function `solve(energy, func)` which takes the parameter energy and a python function $func$. This function should solve the Schroedinger ODE for the case described above and return only the final value of $\\psi(L)$ at the boundary $L$. \n",
    "\n",
    "Write a function `eqn(x, y, energy)` containing the two first-order differential equations equivalent to the Schroedinger equation. Use this function as input for the `solve(energy, func)` function. This detailed naming scheme is required for the first tests of your code.\n",
    "\n",
    "Write a script using the function `solve(energy, func)` to calculate the ground state energy of an electron in this potential well in units of eV (i.e. divide result by elementary charge value). For the initial condition, see technical hint below. For the number of values to solve for $\\psi(x)$ the value 1000 is recommended. The required precision for the root finding method is 1.e-22 (set explicitly since less precision has consequences for part (c)).\n",
    "\n",
    "The result of your calculation should be a number between 134 eV and 135 eV. One of the tests will assess your `solve(energy, func)` function for a distorted potential well.\n",
    "\n",
    "**(b)** Consider the harmonic potential $$V(x)=V_{0}\\,x^{2}/a^{2},$$ where $V_{0}$ and $a=10^{-11}$ m are constants. Limit the infinite range of the variable $x$ to the interval $[-10a, 10a]$ with $V_{0}=50$ eV. The harmonic oscillator is known to have equidistant energy eigenvalues. Check that this is true, to the precision of your calculation, by calculating the ground state and the first 2 excited states. (Hint: the ground state has energy in the range 100 to 200 eV. You may wish to program a different `solve2(energy)` function to part (a) for this exercise.)\n",
    "\n",
    "In order to test your result, write a function `result()` which must return the difference of calculated energy eigenvalues in eV as a single number. As stated above, the absolute difference between the ground and first state and the first and second state should be very close to equal. Either of those two numbers should be returned. Consider that this is merely a function to enable automated testing and hence should really only return the requested value. Calculations should take place earlier in your code so that `result()` can run without an input argument.\n",
    "\n",
    "**(c)** Plot the normalized wavefunctions, for the ground state energy and the two excited state energies as obtained without normalization in part (b). Note that normalization of a wavefunction requires the calculation of the integral of the square of the wavefunction $\\int|\\psi(x)|^{2}dx$ and subsequent division of $\\psi(x)$ by the square root of the integral. \n",
    "\n",
    "Provide a plot title and appropriate axis labels, plot all three wavefunctions onto a single canvas using color-coded lines and also provide suitable axis limits in x and y to render all curves well visible. \n",
    "\n",
    "**Technical Hint**: This is not an initial value problem for the Schroedinger ODE but a boundary value problem! This requires additional effort, a different method to the previous ODE exercises and is hence an 'unseen' problem. \n",
    "\n",
    "Take a simple initial condition for both problems at $x_{0}=0$ or $x_{0}=-10a$, respectively: $\\psi(x_{0})=0$ and $d\\psi(x_{0})/dx=1$. Use that as a starting point to solve the ODE and vary the energy, $E$, until a solution converges. The task is to evaluate the variation of the energy variable until the second boundary condition (for instance at L for exercise (a)) is satisfied since the first boundary condition is already satisfied due to the choice of initial condition. \n",
    "\n",
    "This requires an initial guess for the energy interval in which the solution might be and a computational method for root finding. Search scipy for root finding methods and select one which does not require knowledge of the derivative. Root finding is appropriate here since the boundary condition to satisfy is $\\psi(x)=0$ to a given precision. Another hint would be to consider the required precision since in SI units, absolute values for $E$ are very small indeed.\n",
    "\n",
    "**Technical Hint 2**: part (a) requires using `solve_ivp` in order to solve the boundary value problem in combination with a root finder function. The SciPy boundary value solver, `solve_bvp`, can be used for parts (b) and (c), if you wish. The root finding, `solve_ivp` method will also work, however.\n",
    "\n",
    "**Quantum physics background** For those lacking the first year quantum module, the boundary condition for both exercises is that $\\psi(x)=0$ at each potential boundary. These are only fulfilled at specific, discrete energy values $E$, called energy eigenvalues, where the smallest of these is called the ground state energy."
   ]
  },
  {
   "cell_type": "code",
   "execution_count": 1,
   "metadata": {
    "deletable": false,
    "nbgrader": {
     "cell_type": "code",
     "checksum": "7ce3520d10f1baee4f7ff3a4fa9a758c",
     "grade": false,
     "grade_id": "Q12CodeA",
     "locked": false,
     "schema_version": 3,
     "solution": true
    },
    "tags": []
   },
   "outputs": [
    {
     "name": "stdout",
     "output_type": "stream",
     "text": [
      "Ground state energy = 134.18216545021107\n"
     ]
    }
   ],
   "source": [
    "''' required physical constants given in SI units'''\n",
    "m_el   = 9.1094e-31      # mass of electron in [kg]\n",
    "hbar   = 1.0546e-34      # Planck's constant over 2 pi [Js]\n",
    "e_el   = 1.6022e-19      # electron charge in [C]\n",
    "L_bohr = 5.2918e-11      # Bohr radius [m]\n",
    "\n",
    "# YOUR CODE HERE\n",
    "import numpy as np\n",
    "import matplotlib.pyplot as plt\n",
    "from scipy.integrate import solve_ivp\n",
    "from scipy import optimize\n",
    "\n",
    "p0 = 0\n",
    "dp0 = 1\n",
    "\n",
    "def solve(energy, func):\n",
    "    '''\n",
    "    Parameters\n",
    "    ----------\n",
    "    energy : energy of electron\n",
    "    func : coupled ODE's\n",
    "    Returns\n",
    "    -------\n",
    "    solved equation\n",
    "    '''\n",
    "    param = np.array([p0, dp0])\n",
    "    retVal = solve_ivp(func, (0, L_bohr), param, args = (energy,))\n",
    "    return retVal.y[0][-1]\n",
    "\n",
    "def eqn(x, y, energy):\n",
    "    '''\n",
    "    Parameters\n",
    "    ----------\n",
    "    x : x position\n",
    "    y : initial parameters\n",
    "    energy : initial energy\n",
    "    Returns\n",
    "    -------\n",
    "    retVal : coupled ODE's\n",
    "    '''\n",
    "    eqn0 = y[1]\n",
    "    eqn1 = - 2 * m_el / (hbar ** 2) * energy * y[0]\n",
    "    retVal = np.array([eqn0, eqn1])\n",
    "    return retVal\n",
    "\n",
    "energyVal = optimize.brentq(solve, 134 * e_el, 135 * e_el , args = (eqn), xtol = 1e-22) / e_el\n",
    "\n",
    "print(\"Ground state energy =\", energyVal)\n"
   ]
  },
  {
   "cell_type": "code",
   "execution_count": 2,
   "metadata": {
    "deletable": false,
    "nbgrader": {
     "cell_type": "code",
     "checksum": "090b882e1e9bfb3b7f642684e346a025",
     "grade": false,
     "grade_id": "Q12CodeB",
     "locked": false,
     "schema_version": 3,
     "solution": true
    },
    "tags": []
   },
   "outputs": [
    {
     "name": "stdout",
     "output_type": "stream",
     "text": [
      "Absolute difference between ground state and first excited state in ev =  275.83862231470243\n"
     ]
    },
    {
     "data": {
      "image/png": "[encoded data removed]",
      "text/plain": [
       "<Figure size 648x288 with 1 Axes>"
      ]
     },
     "metadata": {
      "needs_background": "light"
     },
     "output_type": "display_data"
    }
   ],
   "source": [
    "''' required physical constants given in SI units'''\n",
    "m_el   = 9.1094e-31      # mass of electron in [kg]\n",
    "hbar   = 1.0546e-34      # Planck's constant over 2 pi [Js]\n",
    "e_el   = 1.6022e-19      # electron charge in [C]\n",
    "L_bohr = 5.2918e-11      # Bohr radius [m]\n",
    "\n",
    "# solution to parts (b), (c)\n",
    "# YOUR CODE HERE\n",
    "# (b) finding absolute energy diffence\n",
    "import numpy as np\n",
    "import matplotlib.pyplot as plt\n",
    "from scipy.integrate import solve_ivp\n",
    "from scipy import optimize\n",
    "from scipy import integrate\n",
    "\n",
    "p0 = 0\n",
    "dp0 = 1\n",
    "a = 1e-11\n",
    "\n",
    "def vofx(x):\n",
    "    '''\n",
    "    Parameters\n",
    "    ----------\n",
    "    x : x position\n",
    "    Returns\n",
    "    -------\n",
    "    retVal : V(x) value of x position\n",
    "    '''\n",
    "    retVal = 50 * e_el * (x ** 2) / (a ** 2)\n",
    "    return retVal\n",
    "\n",
    "def solve2(energy, func):\n",
    "    '''\n",
    "    Parameters\n",
    "    ----------\n",
    "    energy : initial energy\n",
    "    func : coupled ODE's\n",
    "    Returns\n",
    "    -------\n",
    "    solved equations\n",
    "    '''\n",
    "    param = np.array([p0, dp0])\n",
    "    retVal = solve_ivp(func, (-10 * a, 10 * a), param, args = (energy,))\n",
    "    return retVal.y[0][-1]\n",
    "\n",
    "def eqn2(x, y, energy):\n",
    "    '''\n",
    "    Parameters\n",
    "    ----------\n",
    "    x : x position\n",
    "    y : initial parameters\n",
    "    energy : initial energy\n",
    "    Returns\n",
    "    -------\n",
    "    retVal : coupled equations\n",
    "    '''\n",
    "    eqn0 = y[1]\n",
    "    eqn1 = - 2 * m_el / (hbar ** 2) * ((energy - vofx(x)) * y[0])\n",
    "    retVal = np.array([eqn0, eqn1])\n",
    "    return retVal\n",
    "\n",
    "def result():\n",
    "    '''\n",
    "    Returns\n",
    "    -------\n",
    "    retVal : absolute difference between ground state and first excited state\n",
    "    '''\n",
    "    Val1 = optimize.brentq(solve2, 100 * e_el, 250 * e_el , args = (eqn2), xtol = 1e-22)\n",
    "    Val2 = optimize.brentq(solve2, 250 * e_el, 500 * e_el , args = (eqn2), xtol = 1e-22)\n",
    "    Val3 = optimize.brentq(solve2, 500 * e_el, 750 * e_el , args = (eqn2), xtol = 1e-22)\n",
    "    retVal = np.abs(Val1 - Val2) / e_el\n",
    "    return retVal\n",
    "\n",
    "result()\n",
    "\n",
    "print(\"Absolute difference between ground state and first excited state in ev = \", result())\n",
    "\n",
    "# (c) Plots of normalized wavefunction\n",
    "\n",
    "rtVal1 = optimize.brentq(solve2, 100 * e_el, 250 * e_el , args = (eqn2), xtol = 1e-28)\n",
    "rtVal2 = optimize.brentq(solve2, 250 * e_el, 500 * e_el , args = (eqn2), xtol = 1e-28)\n",
    "rtVal3 = optimize.brentq(solve2, 500 * e_el, 750 * e_el , args = (eqn2), xtol = 1e-28)\n",
    "\n",
    "def solve3(energy, func):\n",
    "    '''\n",
    "    Parameters\n",
    "    ----------\n",
    "    energy : initial energy\n",
    "    func : coupled ODE's\n",
    "    Returns\n",
    "    -------\n",
    "    solved equations\n",
    "    '''\n",
    "    xVal = np.linspace(- 10 * a, 10 * a, 1000)\n",
    "    param = np.array([p0, dp0])\n",
    "    retVal = solve_ivp(func, (-10 * a, 10 * a), param, args = (energy,), t_eval = xVal)\n",
    "    return retVal.y[0]\n",
    "\n",
    "xVals = np.linspace(-10 * a, 10 * a, 1000)\n",
    "y1Val = solve3(rtVal1, eqn2)\n",
    "y2Val = solve3(rtVal2, eqn2)\n",
    "y3Val = solve3(rtVal3, eqn2)\n",
    "\n",
    "def normalize(y):\n",
    "    '''\n",
    "    Parameters\n",
    "    ----------\n",
    "    y : y position\n",
    "    Returns\n",
    "    -------\n",
    "    value we must divide by to normalize y\n",
    "    '''\n",
    "    absSq = np.abs(y) ** 2\n",
    "    retVal = integrate.simps(absSq, xVals)\n",
    "    return np.sqrt(retVal)\n",
    "\n",
    "plt1Val = y1Val / normalize(y1Val)\n",
    "plt2Val = y2Val / normalize(y2Val)\n",
    "plt3Val = y3Val / normalize(y3Val)\n",
    "\n",
    "plt.figure(figsize = (9, 4))\n",
    "plt.title(\"Normalized Wavefunction\", fontsize = 16)\n",
    "plt.plot(xVals, plt1Val, label = \"Ground State\")\n",
    "plt.plot(xVals, plt2Val, label = \"First Excited State\")\n",
    "plt.plot(xVals, plt3Val, label = \"Second Excited State\")\n",
    "plt.xlabel(\"x\", fontsize = 12)\n",
    "plt.ylabel(\"Normalized Functions\", fontsize = 12)\n",
    "plt.legend()\n",
    "plt.grid(linewidth = 0.5)\n",
    "plt.show()\n"
   ]
  },
  {
   "cell_type": "code",
   "execution_count": 3,
   "metadata": {
    "deletable": false,
    "editable": false,
    "nbgrader": {
     "cell_type": "code",
     "checksum": "e28448f28e3e494c4e1d184b643bbcd5",
     "grade": true,
     "grade_id": "Q12TestB",
     "locked": true,
     "points": 1,
     "schema_version": 3,
     "solution": false
    }
   },
   "outputs": [],
   "source": [
    "# Hidden test for (a)\n"
   ]
  },
  {
   "cell_type": "code",
   "execution_count": 4,
   "metadata": {
    "deletable": false,
    "editable": false,
    "nbgrader": {
     "cell_type": "code",
     "checksum": "875c31af3eabf5c50aeeac49ccb3c1c5",
     "grade": true,
     "grade_id": "Q12TestC",
     "locked": true,
     "points": 1,
     "schema_version": 3,
     "solution": false
    }
   },
   "outputs": [],
   "source": [
    "# Test for (b)\n",
    "assert (result()>275.0 and result()<277.0), 'wrong energy eigenvalue difference.'\n"
   ]
  },
  {
   "cell_type": "markdown",
   "metadata": {
    "deletable": false,
    "editable": false,
    "nbgrader": {
     "cell_type": "markdown",
     "checksum": "e1e41a379002d3c8068ee48e795ec8b2",
     "grade": false,
     "grade_id": "cell-6810b3df37ea911a",
     "locked": true,
     "schema_version": 3,
     "solution": false
    }
   },
   "source": [
    "### Tests 2 marks; Style 1 mark; Plot - 2 marks"
   ]
  }
 ],
 "metadata": {
  "kernelspec": {
   "display_name": "Python 3 (ipykernel)",
   "language": "python",
   "name": "python3"
  },
  "language_info": {
   "codemirror_mode": {
    "name": "ipython",
    "version": 3
   },
   "file_extension": ".py",
   "mimetype": "text/x-python",
   "name": "python",
   "nbconvert_exporter": "python",
   "pygments_lexer": "ipython3",
   "version": "3.11.4"
  }
 },
 "nbformat": 4,
 "nbformat_minor": 4
}
