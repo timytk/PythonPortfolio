{
 "cells": [
  {
   "cell_type": "markdown",
   "id": "bcc4929f-add0-4008-9560-5f557b88dc3e",
   "metadata": {},
   "source": [
    "# MA3K7 Big Mini Assignment\n",
    "\n",
    "Name - Timothy Yap\n",
    "\n",
    "Student ID - 21611367"
   ]
  },
  {
   "cell_type": "code",
   "execution_count": 1,
   "id": "8021160a-861d-4548-8432-b41bd90e41a0",
   "metadata": {
    "tags": []
   },
   "outputs": [],
   "source": [
    "# Libraries\n",
    "import numpy as np\n",
    "import scipy\n",
    "import matplotlib.pyplot as plt\n",
    "import random\n",
    "import time\n",
    "from fractions import Fraction"
   ]
  },
  {
   "cell_type": "code",
   "execution_count": 2,
   "id": "6a0bb924-fb59-44b9-98e4-ce6750f365f1",
   "metadata": {
    "tags": []
   },
   "outputs": [
    {
     "name": "stdout",
     "output_type": "stream",
     "text": [
      "1.A\n",
      "1.B\n",
      "2.A\n",
      "2.B\n",
      "3.A\n",
      "3.B\n",
      "4.A\n",
      "4.B\n"
     ]
    }
   ],
   "source": [
    "# Code to print Latex turns\n",
    "n = 4\n",
    "for i in range(n):\n",
    "    print(f\"{i+1}.A\")\n",
    "    print(f\"{i+1}.B\")"
   ]
  },
  {
   "cell_type": "code",
   "execution_count": 3,
   "id": "2815fdb0-74bf-48a6-a442-1d2c0b046a84",
   "metadata": {
    "tags": []
   },
   "outputs": [
    {
     "name": "stdout",
     "output_type": "stream",
     "text": [
      "What Player A adds to 4 pairs of glasses: 0.125\n",
      "Volume in each remaining 4 glasses: 0.125 \n",
      "\n",
      "What Player A adds to 3 pairs of glasses: 0.167\n",
      "Volume in each remaining 3 glasses: 0.292 \n",
      "\n",
      "What Player A adds to 2 pairs of glasses: 0.25\n",
      "Volume in each remaining 2 glasses: 0.542 \n",
      "\n",
      "What Player A adds to 1 pairs of glasses: 0.5\n",
      "Volume in each remaining 1 glasses: 1.042 \n",
      "\n"
     ]
    }
   ],
   "source": [
    "# Calculating first example\n",
    "n = 4 # number of pairs (not total num of glasses)\n",
    "glass = 0\n",
    "for i in range(n, 0, -1):\n",
    "    split = 0.5 / i\n",
    "    temp = round(split, 3)\n",
    "    glass += temp\n",
    "    print(\"What Player A adds to\", i, \"pairs of glasses:\", temp)\n",
    "    print(\"Volume in each remaining\", i, \"glasses:\", round(glass, 3), \"\\n\")"
   ]
  },
  {
   "cell_type": "code",
   "execution_count": 4,
   "id": "e4177fa0-b293-4d33-8309-30bcdb562997",
   "metadata": {
    "tags": []
   },
   "outputs": [
    {
     "name": "stdout",
     "output_type": "stream",
     "text": [
      "What Player A adds to 20 pairs of glasses: 0.025\n",
      "Volume in each remaining 20 glasses: 0.025 \n",
      "\n",
      "What Player A adds to 19 pairs of glasses: 0.026\n",
      "Volume in each remaining 19 glasses: 0.051 \n",
      "\n",
      "What Player A adds to 18 pairs of glasses: 0.028\n",
      "Volume in each remaining 18 glasses: 0.079 \n",
      "\n",
      "What Player A adds to 17 pairs of glasses: 0.029\n",
      "Volume in each remaining 17 glasses: 0.108 \n",
      "\n",
      "What Player A adds to 16 pairs of glasses: 0.031\n",
      "Volume in each remaining 16 glasses: 0.139 \n",
      "\n",
      "What Player A adds to 15 pairs of glasses: 0.033\n",
      "Volume in each remaining 15 glasses: 0.172 \n",
      "\n",
      "What Player A adds to 14 pairs of glasses: 0.036\n",
      "Volume in each remaining 14 glasses: 0.208 \n",
      "\n",
      "What Player A adds to 13 pairs of glasses: 0.038\n",
      "Volume in each remaining 13 glasses: 0.246 \n",
      "\n",
      "What Player A adds to 12 pairs of glasses: 0.042\n",
      "Volume in each remaining 12 glasses: 0.288 \n",
      "\n",
      "What Player A adds to 11 pairs of glasses: 0.045\n",
      "Volume in each remaining 11 glasses: 0.333 \n",
      "\n",
      "What Player A adds to 10 pairs of glasses: 0.05\n",
      "Volume in each remaining 10 glasses: 0.383 \n",
      "\n",
      "What Player A adds to 9 pairs of glasses: 0.056\n",
      "Volume in each remaining 9 glasses: 0.439 \n",
      "\n",
      "What Player A adds to 8 pairs of glasses: 0.062\n",
      "Volume in each remaining 8 glasses: 0.501 \n",
      "\n",
      "What Player A adds to 7 pairs of glasses: 0.071\n",
      "Volume in each remaining 7 glasses: 0.572 \n",
      "\n",
      "What Player A adds to 6 pairs of glasses: 0.083\n",
      "Volume in each remaining 6 glasses: 0.655 \n",
      "\n",
      "What Player A adds to 5 pairs of glasses: 0.1\n",
      "Volume in each remaining 5 glasses: 0.755 \n",
      "\n",
      "What Player A adds to 4 pairs of glasses: 0.125\n",
      "Volume in each remaining 4 glasses: 0.88 \n",
      "\n",
      "What Player A adds to 3 pairs of glasses: 0.167\n",
      "Volume in each remaining 3 glasses: 1.047 \n",
      "\n",
      "What Player A adds to 2 pairs of glasses: 0.25\n",
      "Volume in each remaining 2 glasses: 1.297 \n",
      "\n",
      "What Player A adds to 1 pairs of glasses: 0.5\n",
      "Volume in each remaining 1 glasses: 1.797 \n",
      "\n"
     ]
    }
   ],
   "source": [
    "# A larger example\n",
    "n = 20\n",
    "glass = 0\n",
    "for i in range(n, 0, -1):\n",
    "    split = 0.5 / i\n",
    "    temp = round(split, 3)\n",
    "    glass += temp\n",
    "    print(\"What Player A adds to\", i, \"pairs of glasses:\", temp)\n",
    "    print(\"Volume in each remaining\", i, \"glasses:\", round(glass, 3), \"\\n\")"
   ]
  },
  {
   "cell_type": "markdown",
   "id": "8eeea180-8322-43d4-98d2-d59d2304b0b5",
   "metadata": {},
   "source": [
    "Note for later - We already win when glass volume >1"
   ]
  },
  {
   "cell_type": "code",
   "execution_count": 5,
   "id": "16fe05e3-ade3-4607-be51-a5c50ef1eeb7",
   "metadata": {
    "tags": []
   },
   "outputs": [
    {
     "name": "stdout",
     "output_type": "stream",
     "text": [
      "The final glass for a game with 3 glass has 0.917 pints of water\n",
      "The final glass for a game with 4 glass has 1.042 pints of water\n",
      "The final glass for a game with 5 glass has 1.142 pints of water\n",
      "The final glass for a game with 6 glass has 1.225 pints of water\n",
      "The final glass for a game with 7 glass has 1.296 pints of water\n",
      "The final glass for a game with 8 glass has 1.358 pints of water\n",
      "The final glass for a game with 9 glass has 1.414 pints of water\n",
      "The final glass for a game with 10 glass has 1.464 pints of water\n",
      "The final glass for a game with 11 glass has 1.509 pints of water\n",
      "The final glass for a game with 12 glass has 1.551 pints of water\n",
      "The final glass for a game with 13 glass has 1.589 pints of water\n",
      "The final glass for a game with 14 glass has 1.625 pints of water\n"
     ]
    }
   ],
   "source": [
    "# Creating a general strategy function\n",
    "def glassGame(n):\n",
    "    pint = 0.5\n",
    "    glass = 0\n",
    "    for i in range(n, 0, -1):\n",
    "        split = 0.5 / i\n",
    "        temp = round(split, 3)\n",
    "        glass += temp\n",
    "    return round(glass, 5)\n",
    "\n",
    "for i in range(3, 15):\n",
    "    print(\"The final glass for a game with\", i,\"glass has\",glassGame(i) ,\"pints of water\")"
   ]
  },
  {
   "cell_type": "code",
   "execution_count": 6,
   "id": "d4b4650d-a41b-486b-8a42-5e32a5412629",
   "metadata": {
    "tags": []
   },
   "outputs": [
    {
     "name": "stdout",
     "output_type": "stream",
     "text": [
      "0.917\n",
      "1.042\n",
      "1.142\n",
      "1.225\n",
      "1.296\n",
      "1.358\n",
      "1.414\n",
      "1.464\n",
      "1.509\n",
      "1.551\n",
      "1.589\n",
      "1.625\n"
     ]
    }
   ],
   "source": [
    "# Printing results for Table 3\n",
    "def glassResult(n):\n",
    "    pint = 0.5\n",
    "    shift = 3\n",
    "    for i in range(n):\n",
    "        glass = 0\n",
    "        # if i % 2 == 0:\n",
    "        #     numPair = int(i/2)\n",
    "        # if i % 2 != 0:\n",
    "        #     numPair = int((i-1)/2)\n",
    "        for j in range(shift + i, 0, -1):\n",
    "            split = 0.5 / j\n",
    "            temp = round(split, 3)\n",
    "            glass += temp\n",
    "        print(round(glass, 5))\n",
    "        # print(round(glass, 5)) # so I can copy to Latex table\n",
    "\n",
    "glassResult(12)"
   ]
  },
  {
   "cell_type": "code",
   "execution_count": 7,
   "id": "df87f47a-5626-48fe-8e6d-b4c4013a66a8",
   "metadata": {
    "tags": []
   },
   "outputs": [
    {
     "name": "stdout",
     "output_type": "stream",
     "text": [
      "0.25\n",
      "$\\frac{ 1 }{ 4 }$\n",
      "0.25\n",
      "$\\frac{ 1 }{ 4 }$ \n",
      "\n",
      "0.375\n",
      "$\\frac{ 3 }{ 8 }$\n",
      "0.125\n",
      "$\\frac{ 1 }{ 8 }$ \n",
      "\n",
      "0.4375\n",
      "$\\frac{ 7 }{ 16 }$\n",
      "0.0625\n",
      "$\\frac{ 1 }{ 16 }$ \n",
      "\n",
      "0.46875\n",
      "$\\frac{ 15 }{ 32 }$\n",
      "0.03125\n",
      "$\\frac{ 1 }{ 32 }$ \n",
      "\n",
      "0.48438\n",
      "$\\frac{ 31 }{ 64 }$\n",
      "0.01562\n",
      "$\\frac{ 1 }{ 64 }$ \n",
      "\n"
     ]
    }
   ],
   "source": [
    "# Replace and split strategy\n",
    "n = 5\n",
    "leftover1 = 0.5\n",
    "cup1 = 0\n",
    "leftover2 = Fraction(1, 2)\n",
    "cup2 = 0\n",
    "for _ in range(n):\n",
    "    cup1 += leftover1/2\n",
    "    print(round(cup1, 5))\n",
    "    cup2 += leftover2 / 2\n",
    "    print(\"$\\\\frac{\", cup2.numerator, \"}{\", cup2.denominator, \"}$\")\n",
    "    leftover1 = 0.5 - cup1\n",
    "    print(round(leftover1, 5))\n",
    "    leftover2 = Fraction(1, 2) - cup2\n",
    "    print(\"$\\\\frac{\", leftover2.numerator, \"}{\", leftover2.denominator, \"}$ \\n\") # for Latex"
   ]
  },
  {
   "cell_type": "code",
   "execution_count": 8,
   "id": "3d9f53c2-a679-4ce3-8f42-565647d593d0",
   "metadata": {
    "tags": []
   },
   "outputs": [
    {
     "name": "stdout",
     "output_type": "stream",
     "text": [
      "What Player A adds to 3 pairs of glasses: 0.167\n",
      "Volume in each remaining 3 glasses: 0.167 \n",
      "\n",
      "What Player A adds to 2 pairs of glasses: 0.25\n",
      "Volume in each remaining 2 glasses: 0.417 \n",
      "\n",
      "What Player A adds to 1 pairs of glasses: 0.5\n",
      "Volume in each remaining 1 glasses: 0.917 \n",
      "\n"
     ]
    }
   ],
   "source": [
    "# Analysing n = 6,7\n",
    "n = 3 # number of pairs (not total num of glasses)\n",
    "glass = 0\n",
    "for i in range(n, 0, -1):\n",
    "    split = 0.5 / i\n",
    "    temp = round(split, 3)\n",
    "    glass += temp\n",
    "    print(\"What Player A adds to\", i, \"pairs of glasses:\", temp)\n",
    "    print(\"Volume in each remaining\", i, \"glasses:\", round(glass, 3), \"\\n\")"
   ]
  },
  {
   "cell_type": "code",
   "execution_count": 9,
   "id": "71f506f0-2c0e-4b7d-8da1-58aed96b6f60",
   "metadata": {
    "tags": []
   },
   "outputs": [
    {
     "name": "stdout",
     "output_type": "stream",
     "text": [
      "0.13333333333333333\n",
      "0.22222222222222224\n",
      "0.2814814814814815\n",
      "0.3209876543209877\n",
      "0.3473251028806585\n",
      "0.364883401920439\n",
      "0.376588934613626\n",
      "0.3843926230757507\n",
      "0.3895950820505005\n",
      "0.39306338803366697\n",
      "0.39537559202244466\n",
      "0.39691706134829646\n",
      "0.39794470756553096\n",
      "0.39862980504368734\n",
      "0.3990865366957916\n",
      "0.39939102446386104\n",
      "0.3995940163092407\n",
      "0.39972934420616046\n",
      "0.39981956280410696\n",
      "0.3998797085360713\n"
     ]
    }
   ],
   "source": [
    "# Calculating first extension\n",
    "glass = 0\n",
    "split = 0.4\n",
    "temp = split/3\n",
    "for _ in range(20):\n",
    "    glass += temp\n",
    "    split = 0.4 - glass\n",
    "    temp = split/3\n",
    "    print(glass)"
   ]
  },
  {
   "cell_type": "code",
   "execution_count": 10,
   "id": "59abcde6-cd69-499b-a8b8-643eaf7be9db",
   "metadata": {
    "tags": []
   },
   "outputs": [
    {
     "name": "stdout",
     "output_type": "stream",
     "text": [
      "[0.13333333 0.22222222 0.28148148 0.32098765 0.3473251  0.3648834\n",
      " 0.37658893 0.38439262 0.38959508 0.39306339 0.39537559 0.39691706\n",
      " 0.39794471 0.39862981 0.39908654 0.39939102 0.39959402 0.39972934\n",
      " 0.39981956 0.39987971 0.39991981 0.39994654 0.39996436 0.39997624\n",
      " 0.39998416 0.39998944 0.39999296 0.39999531 0.39999687 0.39999791\n",
      " 0.39999861]\n"
     ]
    }
   ],
   "source": [
    "# Checking if sum is correct\n",
    "test = 0.4/3\n",
    "arr = np.array([test])\n",
    "for i in range(30):\n",
    "    tempVal = arr[i] + (0.4 - arr[i])/3\n",
    "    tempArr = np.array([tempVal])\n",
    "    arr = np.append(arr, tempArr)\n",
    "\n",
    "print(arr)"
   ]
  },
  {
   "cell_type": "code",
   "execution_count": 11,
   "id": "8099fe6a-397a-4111-9a94-6d741aa3f734",
   "metadata": {
    "tags": []
   },
   "outputs": [
    {
     "name": "stdout",
     "output_type": "stream",
     "text": [
      "[0.13666667 0.22777778 0.28851852 0.32901235 0.35600823 0.37400549\n",
      " 0.38600366 0.39400244 0.39933496 0.40288997 0.40525998 0.40683999\n",
      " 0.40789333 0.40859555 0.4090637  0.4093758  0.40958387 0.40972258\n",
      " 0.40981505 0.4098767  0.4099178  0.4099452  0.40996347 0.40997564\n",
      " 0.40998376 0.40998918 0.40999278 0.40999519 0.40999679 0.40999786\n",
      " 0.40999857 0.40999905]\n"
     ]
    }
   ],
   "source": [
    "# Testing minimum water required\n",
    "x = 0.41\n",
    "minSplit = x/3\n",
    "arr = np.array([minSplit])\n",
    "for i in range(31):\n",
    "    tempVal = arr[i] + (x - arr[i])/3\n",
    "    tempArr = np.array([tempVal])\n",
    "    arr = np.append(arr, tempArr)\n",
    "\n",
    "print(arr)"
   ]
  },
  {
   "cell_type": "code",
   "execution_count": 12,
   "id": "9bb8dc03-de40-44f2-9ec3-56e081c63768",
   "metadata": {
    "tags": []
   },
   "outputs": [
    {
     "data": {
      "text/plain": [
       "58"
      ]
     },
     "execution_count": 12,
     "metadata": {},
     "output_type": "execute_result"
    }
   ],
   "source": [
    "# defining minimum turn for x\n",
    "def minTurn(x):\n",
    "    minSplit = x/3\n",
    "    winCon = 1 - x - x/2\n",
    "    arr = np.array([minSplit])\n",
    "    while arr[-1] < winCon:\n",
    "        tempVal = arr[-1] + (x - arr[-1])/3\n",
    "        tempArr = np.array([tempVal])\n",
    "        arr = np.append(arr, tempArr)\n",
    "    return len(arr)\n",
    "\n",
    "minTurn(0.40000000001)"
   ]
  },
  {
   "cell_type": "code",
   "execution_count": 13,
   "id": "9e93d352-61d9-4907-b311-d33e8c1e5c50",
   "metadata": {
    "tags": []
   },
   "outputs": [
    {
     "name": "stdout",
     "output_type": "stream",
     "text": [
      "[0.16666667 0.27777778 0.35185185 0.40123457 0.43415638 0.45610425\n",
      " 0.47073617 0.48049078 0.48699385 0.49132924 0.49421949 0.49614633\n",
      " 0.49743088 0.49828726 0.49885817 0.49923878 0.49949252 0.49966168\n",
      " 0.49977445 0.49984964 0.49989976 0.49993317 0.49995545 0.4999703\n",
      " 0.4999802  0.4999868  0.4999912  0.49999413 0.49999609 0.49999739\n",
      " 0.49999826 0.49999884]\n",
      "[0.125      0.21875    0.2890625  0.34179688 0.38134766 0.41101074\n",
      " 0.43325806 0.44994354 0.46245766 0.47184324 0.47888243 0.48416182\n",
      " 0.48812137 0.49109103 0.49331827 0.4949887  0.49624153 0.49718114\n",
      " 0.49788586 0.49841439 0.4988108  0.4991081  0.49933107 0.4994983\n",
      " 0.49962373 0.4997178  0.49978835 0.49984126 0.49988095 0.49991071\n",
      " 0.49993303 0.49994977]\n",
      "[0.16666667 0.27777778 0.35185185 0.40123457 0.43415638 0.45610425\n",
      " 0.47073617 0.48049078 0.48699385 0.49132924 0.49421949 0.49614633\n",
      " 0.49743088 0.49828726 0.49885817 0.49923878 0.49949252 0.49966168\n",
      " 0.49977445 0.49984964 0.49989976 0.49993317 0.49995545 0.4999703\n",
      " 0.4999802  0.4999868  0.4999912  0.49999413 0.49999609 0.49999739\n",
      " 0.49999826 0.49999884]\n"
     ]
    }
   ],
   "source": [
    "# Testing different n\n",
    "def diffN(n):\n",
    "    x = 0.5\n",
    "    minSplit = x/n\n",
    "    arr = np.array([minSplit])\n",
    "    for _ in range(31):\n",
    "        tempVal = arr[-1] + (x - arr[-1])/n\n",
    "        tempArr = np.array([tempVal])\n",
    "        arr = np.append(arr, tempArr)\n",
    "    print(arr)\n",
    "    \n",
    "diffN(3)\n",
    "diffN(4)\n",
    "diffN(3)"
   ]
  }
 ],
 "metadata": {
  "kernelspec": {
   "display_name": "Python 3 (ipykernel)",
   "language": "python",
   "name": "python3"
  },
  "language_info": {
   "codemirror_mode": {
    "name": "ipython",
    "version": 3
   },
   "file_extension": ".py",
   "mimetype": "text/x-python",
   "name": "python",
   "nbconvert_exporter": "python",
   "pygments_lexer": "ipython3",
   "version": "3.11.5"
  }
 },
 "nbformat": 4,
 "nbformat_minor": 5
}
